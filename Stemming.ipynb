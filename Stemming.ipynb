{
 "cells": [
  {
   "cell_type": "code",
   "execution_count": 16,
   "metadata": {},
   "outputs": [],
   "source": [
    "import nltk\n",
    "import nltk.stem\n",
    "from nltk.stem import PorterStemmer,LancasterStemmer\n",
    "from nltk.tokenize import sent_tokenize,word_tokenize\n",
    "\n",
    "ps=PorterStemmer()"
   ]
  },
  {
   "cell_type": "code",
   "execution_count": 5,
   "metadata": {},
   "outputs": [
    {
     "data": {
      "text/plain": [
       "['Guarding',\n",
       " 'the',\n",
       " 'coastal',\n",
       " 'regions',\n",
       " 'of',\n",
       " 'the',\n",
       " 'indian',\n",
       " 'chinese',\n",
       " 'border',\n",
       " 'has',\n",
       " 'provided',\n",
       " 'us',\n",
       " 'with',\n",
       " 'a',\n",
       " 'lot',\n",
       " 'of',\n",
       " 'difficulties']"
      ]
     },
     "execution_count": 5,
     "metadata": {},
     "output_type": "execute_result"
    }
   ],
   "source": [
    "t=\"Guarding the coastal regions of the indian chinese border has provided us with a lot of difficulties\"\n",
    "wt=word_tokenize(t)\n",
    "wt"
   ]
  },
  {
   "cell_type": "code",
   "execution_count": 6,
   "metadata": {},
   "outputs": [
    {
     "name": "stdout",
     "output_type": "stream",
     "text": [
      "guard\n",
      "the\n",
      "coastal\n",
      "region\n",
      "of\n",
      "the\n",
      "indian\n",
      "chines\n",
      "border\n",
      "ha\n",
      "provid\n",
      "us\n",
      "with\n",
      "a\n",
      "lot\n",
      "of\n",
      "difficulti\n"
     ]
    }
   ],
   "source": [
    "for i in wt:\n",
    "    print(ps.stem(i))"
   ]
  },
  {
   "cell_type": "code",
   "execution_count": 22,
   "metadata": {},
   "outputs": [],
   "source": [
    "def stem_text(text):\n",
    "    from nltk.stem import LancasterStemmer\n",
    "    ls = LancasterStemmer()\n",
    "    tokens = word_tokenize(text)\n",
    "    filtered_tokens = [ls.stem(token) for token in tokens]\n",
    "    filtered_text = ' '.join(filtered_tokens)\n",
    "    return filtered_text "
   ]
  },
  {
   "cell_type": "code",
   "execution_count": 23,
   "metadata": {},
   "outputs": [
    {
     "data": {
      "text/plain": [
       "'guard the coast reg of the ind chines bord has provid us with a lot of difficul'"
      ]
     },
     "execution_count": 23,
     "metadata": {},
     "output_type": "execute_result"
    }
   ],
   "source": [
    "stem_text(t)"
   ]
  },
  {
   "cell_type": "code",
   "execution_count": 30,
   "metadata": {},
   "outputs": [
    {
     "name": "stdout",
     "output_type": "stream",
     "text": [
      "By\n",
      "2025\n",
      ",\n",
      "norway\n",
      "ha\n",
      "a\n",
      "plan\n",
      "for\n",
      "all\n",
      "new\n",
      "car\n",
      "to\n",
      "have\n",
      "zero\n",
      "emiss\n",
      ",\n",
      "and\n",
      "it\n",
      "is\n",
      "possibl\n",
      "to\n",
      "achiev\n",
      "thi\n",
      "goal\n",
      ".\n",
      "In\n",
      "2018\n",
      ",\n",
      "almost\n",
      "one\n",
      "third\n",
      "of\n",
      "all\n",
      "new\n",
      "vehicl\n",
      "sold\n",
      "in\n",
      "norway\n",
      "were\n",
      "alreadi\n",
      "100\n",
      "percent\n",
      "electr\n",
      ".\n",
      "peopl\n",
      "report\n",
      "it\n",
      "to\n",
      "be\n",
      "a\n",
      "world\n",
      "record\n",
      "for\n",
      "yearli\n",
      "vehicl\n",
      "sales.thi\n",
      "show\n",
      "a\n",
      "grow\n",
      "trend\n",
      "in\n",
      "norway\n",
      "where\n",
      "electr\n",
      "vehicl\n",
      "sale\n",
      "were\n",
      "onli\n",
      "5.5\n",
      "percent\n",
      "five\n",
      "year\n",
      "ago\n",
      ".\n",
      "norway\n",
      "’\n",
      "s\n",
      "2025\n",
      "plan\n",
      "is\n",
      "veri\n",
      "ambiti\n",
      ",\n",
      "but\n",
      "the\n",
      "govern\n",
      "is\n",
      "tri\n",
      "to\n",
      "convinc\n",
      "peopl\n",
      "to\n",
      "make\n",
      "the\n",
      "switch\n",
      "by\n",
      "offer\n",
      "a\n",
      "lot\n",
      "of\n",
      "incent\n",
      "like\n",
      "free\n",
      "park\n",
      "and\n",
      "not\n",
      "have\n",
      "to\n",
      "pay\n",
      "some\n",
      "tax\n",
      ".\n"
     ]
    }
   ],
   "source": [
    "t1=\"By 2025, Norway has a plan for all new cars to have zero emissions, and it is possible to achieve this goal. In 2018, almost one third of all new vehicles sold in Norway were already 100 percent electric. People reported it to be a world record for yearly vehicle sales.This shows a growing trend in Norway where electric vehicle sales were only 5.5 percent five years ago. Norway’s 2025 plan is very ambitious, but the government is trying to convince people to make the switch by offering a lot of incentives like free parking and not having to pay some taxes.\"\n",
    "t1t=word_tokenize(t1)\n",
    "for i in t1t:\n",
    "    print(ps.stem(i))"
   ]
  },
  {
   "cell_type": "code",
   "execution_count": 31,
   "metadata": {},
   "outputs": [
    {
     "data": {
      "text/plain": [
       "'by 2025 , norway has a plan for al new car to hav zero emit , and it is poss to achiev thi goal . in 2018 , almost on third of al new vehic sold in norway wer already 100 perc elect . peopl report it to be a world record for year vehic sales.th show a grow trend in norway wher elect vehic sal wer on 5.5 perc fiv year ago . norway ’ s 2025 plan is very amb , but the govern is try to convint peopl to mak the switch by off a lot of int lik fre park and not hav to pay som tax .'"
      ]
     },
     "execution_count": 31,
     "metadata": {},
     "output_type": "execute_result"
    }
   ],
   "source": [
    "stem_text(t1)"
   ]
  },
  {
   "cell_type": "code",
   "execution_count": null,
   "metadata": {},
   "outputs": [],
   "source": []
  }
 ],
 "metadata": {
  "kernelspec": {
   "display_name": "Python 3",
   "language": "python",
   "name": "python3"
  },
  "language_info": {
   "codemirror_mode": {
    "name": "ipython",
    "version": 3
   },
   "file_extension": ".py",
   "mimetype": "text/x-python",
   "name": "python",
   "nbconvert_exporter": "python",
   "pygments_lexer": "ipython3",
   "version": "3.7.0"
  }
 },
 "nbformat": 4,
 "nbformat_minor": 2
}
