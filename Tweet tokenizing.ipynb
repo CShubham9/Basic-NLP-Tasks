{
 "cells": [
  {
   "cell_type": "code",
   "execution_count": 2,
   "metadata": {},
   "outputs": [],
   "source": [
    "import nltk\n",
    "from nltk.tokenize import TweetTokenizer\n",
    "tkr = TweetTokenizer()"
   ]
  },
  {
   "cell_type": "code",
   "execution_count": 3,
   "metadata": {},
   "outputs": [],
   "source": [
    "tweet =  \"...and the best @championsleague goal of the group stage is... Ivan ROCKETic :-) <3 @ivanrakitic -\""
   ]
  },
  {
   "cell_type": "code",
   "execution_count": 4,
   "metadata": {},
   "outputs": [
    {
     "data": {
      "text/plain": [
       "['...',\n",
       " 'and',\n",
       " 'the',\n",
       " 'best',\n",
       " '@championsleague',\n",
       " 'goal',\n",
       " 'of',\n",
       " 'the',\n",
       " 'group',\n",
       " 'stage',\n",
       " 'is',\n",
       " '...',\n",
       " 'Ivan',\n",
       " 'ROCKETic',\n",
       " ':-)',\n",
       " '<3',\n",
       " '@ivanrakitic',\n",
       " '-']"
      ]
     },
     "execution_count": 4,
     "metadata": {},
     "output_type": "execute_result"
    }
   ],
   "source": [
    "tkr.tokenize(tweet)"
   ]
  },
  {
   "cell_type": "code",
   "execution_count": 7,
   "metadata": {},
   "outputs": [],
   "source": [
    "tknzr = TweetTokenizer(strip_handles=True, reduce_len=True)\n",
    "k = tkr.tokenize(tweet)"
   ]
  },
  {
   "cell_type": "code",
   "execution_count": 12,
   "metadata": {},
   "outputs": [
    {
     "name": "stdout",
     "output_type": "stream",
     "text": [
      "The tweet is about:-\n",
      "championsleague\n",
      "ivanrakitic\n"
     ]
    }
   ],
   "source": [
    "print(\"The tweet is about:-\")\n",
    "for i in k:\n",
    "    if i[0] == '@':\n",
    "        print(i[1:])"
   ]
  },
  {
   "cell_type": "code",
   "execution_count": null,
   "metadata": {},
   "outputs": [],
   "source": []
  }
 ],
 "metadata": {
  "kernelspec": {
   "display_name": "Python 3",
   "language": "python",
   "name": "python3"
  },
  "language_info": {
   "codemirror_mode": {
    "name": "ipython",
    "version": 3
   },
   "file_extension": ".py",
   "mimetype": "text/x-python",
   "name": "python",
   "nbconvert_exporter": "python",
   "pygments_lexer": "ipython3",
   "version": "3.7.0"
  }
 },
 "nbformat": 4,
 "nbformat_minor": 2
}
